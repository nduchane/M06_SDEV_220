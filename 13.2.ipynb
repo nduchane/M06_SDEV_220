{
 "cells": [
  {
   "cell_type": "code",
   "execution_count": 25,
   "id": "87a3dfb2",
   "metadata": {},
   "outputs": [],
   "source": [
    "fin = open('today.txt', 'rt')"
   ]
  },
  {
   "cell_type": "code",
   "execution_count": 26,
   "id": "1f3fa63a",
   "metadata": {},
   "outputs": [],
   "source": [
    "todays_date = fin.read()"
   ]
  },
  {
   "cell_type": "code",
   "execution_count": 27,
   "id": "7faec67d",
   "metadata": {},
   "outputs": [],
   "source": [
    "fin.close()"
   ]
  },
  {
   "cell_type": "code",
   "execution_count": 28,
   "id": "59a6e86a",
   "metadata": {},
   "outputs": [
    {
     "name": "stdout",
     "output_type": "stream",
     "text": [
      "2022-07-25\n"
     ]
    }
   ],
   "source": [
    "print (todays_date)"
   ]
  },
  {
   "cell_type": "code",
   "execution_count": null,
   "id": "81dc1e8e",
   "metadata": {},
   "outputs": [],
   "source": []
  },
  {
   "cell_type": "code",
   "execution_count": null,
   "id": "32e5df22",
   "metadata": {},
   "outputs": [],
   "source": []
  }
 ],
 "metadata": {
  "kernelspec": {
   "display_name": "Python 3 (ipykernel)",
   "language": "python",
   "name": "python3"
  },
  "language_info": {
   "codemirror_mode": {
    "name": "ipython",
    "version": 3
   },
   "file_extension": ".py",
   "mimetype": "text/x-python",
   "name": "python",
   "nbconvert_exporter": "python",
   "pygments_lexer": "ipython3",
   "version": "3.9.12"
  }
 },
 "nbformat": 4,
 "nbformat_minor": 5
}
